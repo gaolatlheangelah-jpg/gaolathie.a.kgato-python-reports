{
 "cells": [
  {
   "cell_type": "markdown",
   "id": "e81e8725",
   "metadata": {},
   "source": [
    "# Flow control"
   ]
  },
  {
   "cell_type": "markdown",
   "id": "0fd38054",
   "metadata": {},
   "source": [
    "### If"
   ]
  },
  {
   "cell_type": "code",
   "execution_count": 1,
   "id": "ba059b53",
   "metadata": {},
   "outputs": [
    {
     "data": {
      "text/plain": [
       "10"
      ]
     },
     "execution_count": 1,
     "metadata": {},
     "output_type": "execute_result"
    }
   ],
   "source": [
    "a = 10\n",
    "a"
   ]
  },
  {
   "cell_type": "code",
   "execution_count": 3,
   "id": "966d454f",
   "metadata": {},
   "outputs": [],
   "source": [
    "if a < 0:\n",
    "    print(a, \"is cool\")"
   ]
  },
  {
   "cell_type": "code",
   "execution_count": 4,
   "id": "65cd51bb",
   "metadata": {},
   "outputs": [
    {
     "name": "stdout",
     "output_type": "stream",
     "text": [
      "10 is cool\n"
     ]
    }
   ],
   "source": [
    "if a > 0:\n",
    "    print(a, \"is cool\")"
   ]
  },
  {
   "cell_type": "markdown",
   "id": "86281fb1",
   "metadata": {},
   "source": [
    "### If ... else"
   ]
  },
  {
   "cell_type": "code",
   "execution_count": 11,
   "id": "d305ceb3",
   "metadata": {},
   "outputs": [],
   "source": [
    "a = 0"
   ]
  },
  {
   "cell_type": "code",
   "execution_count": 12,
   "id": "2ab5df16",
   "metadata": {},
   "outputs": [
    {
     "name": "stdout",
     "output_type": "stream",
     "text": [
      "0 is cool\n"
     ]
    }
   ],
   "source": [
    "if a < 0:\n",
    "    print(a, \"is not cool\")\n",
    "else:\n",
    "    print(a, \"is cool\")"
   ]
  },
  {
   "cell_type": "markdown",
   "id": "36536788",
   "metadata": {},
   "source": [
    "### If ... elif ... else"
   ]
  },
  {
   "cell_type": "code",
   "execution_count": 14,
   "id": "b39dfe3c",
   "metadata": {},
   "outputs": [],
   "source": [
    "a = 0"
   ]
  },
  {
   "cell_type": "code",
   "execution_count": 15,
   "id": "3b9031df",
   "metadata": {},
   "outputs": [
    {
     "name": "stdout",
     "output_type": "stream",
     "text": [
      "0 is really cool\n"
     ]
    }
   ],
   "source": [
    "if a < 0:\n",
    "    print(a, \"is not cool\")\n",
    "elif a == 0:\n",
    "    print(a, \"is really cool\")\n",
    "else:\n",
    "    print(a, \"is cool\")"
   ]
  },
  {
   "cell_type": "code",
   "execution_count": 19,
   "id": "57ec551f",
   "metadata": {},
   "outputs": [
    {
     "name": "stdout",
     "output_type": "stream",
     "text": [
      "Enter any number of your choice: -2\n",
      "-2 is not cool\n"
     ]
    }
   ],
   "source": [
    "a = int(input(\"Enter any number of your choice: \"))\n",
    "\n",
    "if a < 0:\n",
    "    print(a, \"is not cool\")\n",
    "elif a == 0:\n",
    "    print(a, \"is really cool\")\n",
    "else:\n",
    "    print(a, \"is cool\")"
   ]
  },
  {
   "cell_type": "code",
   "execution_count": 23,
   "id": "9f2d9b14",
   "metadata": {},
   "outputs": [
    {
     "name": "stdout",
     "output_type": "stream",
     "text": [
      "Enter first number: 5\n",
      "Enter second number: 6\n",
      "a is less or equal to b\n"
     ]
    }
   ],
   "source": [
    "a = int(input(\"Enter first number: \"))\n",
    "b = int(input(\"Enter second number: \"))\n",
    "\n",
    "if a > b:\n",
    "    print(\"a is greater than b\")\n",
    "    if a - b > 5:\n",
    "        print(\"The difference is greater than 5\")\n",
    "    else:\n",
    "        print(\"The difference is less or equal to 5\")\n",
    "else:\n",
    "    print(\"a is less or equal to b\")"
   ]
  },
  {
   "cell_type": "markdown",
   "id": "80e2b399",
   "metadata": {},
   "source": [
    "## Loops"
   ]
  },
  {
   "cell_type": "markdown",
   "id": "c5b702f9",
   "metadata": {},
   "source": [
    "### For"
   ]
  },
  {
   "cell_type": "code",
   "execution_count": 22,
   "id": "139c9935",
   "metadata": {},
   "outputs": [
    {
     "name": "stdout",
     "output_type": "stream",
     "text": [
      "A\n",
      "n\n",
      "g\n",
      "e\n",
      "l\n",
      "a\n",
      "h\n"
     ]
    }
   ],
   "source": [
    "for a in \"Angelah\":\n",
    "    print(a)"
   ]
  },
  {
   "cell_type": "code",
   "execution_count": 26,
   "id": "16ddc8eb",
   "metadata": {},
   "outputs": [
    {
     "name": "stdout",
     "output_type": "stream",
     "text": [
      "A\n",
      "G\n"
     ]
    }
   ],
   "source": [
    "for a in [\"Angelah\", \"Gaolatlhe\"]:\n",
    "    print(a[0])"
   ]
  },
  {
   "cell_type": "markdown",
   "id": "1641edcf",
   "metadata": {},
   "source": [
    "### While"
   ]
  },
  {
   "cell_type": "code",
   "execution_count": 28,
   "id": "f1ea856a",
   "metadata": {},
   "outputs": [
    {
     "name": "stdout",
     "output_type": "stream",
     "text": [
      "0\n",
      "1\n",
      "1\n",
      "2\n",
      "2\n",
      "3\n"
     ]
    }
   ],
   "source": [
    "b = 1\n",
    "while b < 7:\n",
    "    print(b//2)\n",
    "    b += 1"
   ]
  },
  {
   "cell_type": "code",
   "execution_count": 30,
   "id": "e872c818",
   "metadata": {},
   "outputs": [
    {
     "name": "stdout",
     "output_type": "stream",
     "text": [
      "5\n",
      "2\n",
      "*****\n",
      "6\n",
      "3\n",
      "*****\n"
     ]
    }
   ],
   "source": [
    "b = 5\n",
    "while b < 7:\n",
    "    print(b)\n",
    "    print(b//2)\n",
    "    print(\"*****\")\n",
    "    b += 1"
   ]
  },
  {
   "cell_type": "code",
   "execution_count": 2,
   "id": "b5bb7ab8",
   "metadata": {},
   "outputs": [
    {
     "data": {
      "text/plain": [
       "[2, 4, 6, 8]"
      ]
     },
     "execution_count": 2,
     "metadata": {},
     "output_type": "execute_result"
    }
   ],
   "source": [
    "even = []\n",
    "numbers = [1,2,3,3,4,5,6,7,8]\n",
    "\n",
    "for i in numbers:\n",
    "    if i % 2 == 0:\n",
    "        even.append(i)\n",
    "even"
   ]
  },
  {
   "cell_type": "code",
   "execution_count": 3,
   "id": "783f7ffc",
   "metadata": {},
   "outputs": [
    {
     "name": "stdout",
     "output_type": "stream",
     "text": [
      "[1, 3, 3, 5, 7] 19\n"
     ]
    }
   ],
   "source": [
    "odd = []\n",
    "list_1 = numbers = [1,2,3,3,4,5,6,7,8]\n",
    "\n",
    "for i in numbers:\n",
    "    if i % 2 != 0:\n",
    "        odd.append(i)\n",
    "        \n",
    "print(odd, sum(odd))      "
   ]
  },
  {
   "cell_type": "code",
   "execution_count": 43,
   "id": "c4af3928",
   "metadata": {},
   "outputs": [
    {
     "data": {
      "text/plain": [
       "19"
      ]
     },
     "execution_count": 43,
     "metadata": {},
     "output_type": "execute_result"
    }
   ],
   "source": [
    "# Roy's method\n",
    "\n",
    "summation = 0\n",
    "list_1 = numbers = [1,2,3,3,4,5,6,7,8]\n",
    "\n",
    "for i in numbers:\n",
    "    if i % 2 != 0:\n",
    "        summation += i\n",
    "\n",
    "summation"
   ]
  }
 ],
 "metadata": {
  "kernelspec": {
   "display_name": "Python 3 (ipykernel)",
   "language": "python",
   "name": "python3"
  },
  "language_info": {
   "codemirror_mode": {
    "name": "ipython",
    "version": 3
   },
   "file_extension": ".py",
   "mimetype": "text/x-python",
   "name": "python",
   "nbconvert_exporter": "python",
   "pygments_lexer": "ipython3",
   "version": "3.10.12"
  }
 },
 "nbformat": 4,
 "nbformat_minor": 5
}
