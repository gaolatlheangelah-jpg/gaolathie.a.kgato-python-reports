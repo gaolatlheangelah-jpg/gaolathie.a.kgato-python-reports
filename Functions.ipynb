{
 "cells": [
  {
   "cell_type": "markdown",
   "id": "2ae49d65",
   "metadata": {},
   "source": [
    "# Functions"
   ]
  },
  {
   "cell_type": "markdown",
   "id": "d6819920",
   "metadata": {},
   "source": [
    "#### Functions without arguments"
   ]
  },
  {
   "cell_type": "code",
   "execution_count": 76,
   "id": "86381e19",
   "metadata": {},
   "outputs": [],
   "source": [
    "# Multiples if 5\n",
    "\n",
    "def multiples():\n",
    "    \"\"\"\n",
    "    This function computes all the first 9 multiples of 5.\n",
    "    Input: x.\n",
    "    Output: x times n, for n <= 9\n",
    "    \"\"\"\n",
    "\n",
    "    n = 1\n",
    "    while n <= 9:\n",
    "        product = 5 * n\n",
    "        print(n, \"X\", 5, \"=\", product)\n",
    "        \n",
    "        n = n + 1"
   ]
  },
  {
   "cell_type": "code",
   "execution_count": 77,
   "id": "c449913c",
   "metadata": {},
   "outputs": [
    {
     "name": "stdout",
     "output_type": "stream",
     "text": [
      "1 X 5 = 5\n",
      "2 X 5 = 10\n",
      "3 X 5 = 15\n",
      "4 X 5 = 20\n",
      "5 X 5 = 25\n",
      "6 X 5 = 30\n",
      "7 X 5 = 35\n",
      "8 X 5 = 40\n",
      "9 X 5 = 45\n"
     ]
    }
   ],
   "source": [
    "multiples()"
   ]
  },
  {
   "cell_type": "code",
   "execution_count": 78,
   "id": "d62b7c72",
   "metadata": {},
   "outputs": [
    {
     "name": "stdout",
     "output_type": "stream",
     "text": [
      "5 x 1 = 5\n",
      "5 x 2 = 10\n",
      "5 x 3 = 15\n",
      "5 x 4 = 20\n",
      "5 x 5 = 25\n",
      "5 x 6 = 30\n",
      "5 x 7 = 35\n",
      "5 x 8 = 40\n",
      "5 x 9 = 45\n"
     ]
    }
   ],
   "source": [
    "def multiples():\n",
    "    \"\"\"This function computes all the first 9 multiples of 5.\"\"\"\n",
    "    for i in range(1, 10):\n",
    "        print(f\"5 x {i} = {5 * i}\")\n",
    "multiples()"
   ]
  },
  {
   "cell_type": "markdown",
   "id": "7e379488",
   "metadata": {},
   "source": [
    "#### Definition of a function whose arguments are parameters"
   ]
  },
  {
   "cell_type": "code",
   "execution_count": 79,
   "id": "b4afe09a",
   "metadata": {},
   "outputs": [],
   "source": [
    "def multiples(x):\n",
    "    \"\"\"\n",
    "    This function computes all the first 9 multiples of any given number.\n",
    "    Input: x.\n",
    "    Output: x times n, for n <= 9\n",
    "    \"\"\"\n",
    "\n",
    "    n = 1\n",
    "    while n <= 9:\n",
    "        \n",
    "        product = x * n\n",
    "        print(n, \"X\", x, \"=\", product)\n",
    "        \n",
    "        n = n + 1"
   ]
  },
  {
   "cell_type": "code",
   "execution_count": 80,
   "id": "779d51ae",
   "metadata": {},
   "outputs": [
    {
     "name": "stdout",
     "output_type": "stream",
     "text": [
      "1 X 7 = 7\n",
      "2 X 7 = 14\n",
      "3 X 7 = 21\n",
      "4 X 7 = 28\n",
      "5 X 7 = 35\n",
      "6 X 7 = 42\n",
      "7 X 7 = 49\n",
      "8 X 7 = 56\n",
      "9 X 7 = 63\n"
     ]
    }
   ],
   "source": [
    "multiples(7)"
   ]
  },
  {
   "cell_type": "code",
   "execution_count": 81,
   "id": "e147e26e",
   "metadata": {},
   "outputs": [
    {
     "name": "stdout",
     "output_type": "stream",
     "text": [
      "Enter a number: 1\n",
      "1 x 1 = 1\n",
      "1 x 2 = 2\n",
      "1 x 3 = 3\n",
      "1 x 4 = 4\n",
      "1 x 5 = 5\n",
      "1 x 6 = 6\n",
      "1 x 7 = 7\n",
      "1 x 8 = 8\n",
      "1 x 9 = 9\n"
     ]
    }
   ],
   "source": [
    "x = int(input(\"Enter a number: \"))\n",
    "\n",
    "def multiples(x):\n",
    "    \"\"\"This function computes all the first 9 multiples of any given number.\"\"\"\n",
    "    for i in range(1, 10):\n",
    "        print(f\"{x} x {i} = {x * i}\")\n",
    "multiples(x)"
   ]
  },
  {
   "cell_type": "markdown",
   "id": "d994d48c",
   "metadata": {},
   "source": [
    "#### One or More Parameters, No Return"
   ]
  },
  {
   "cell_type": "code",
   "execution_count": 97,
   "id": "0456594c",
   "metadata": {},
   "outputs": [],
   "source": [
    "def multiples(base, start, end):\n",
    "    \"\"\"This string still computes the first 9 multiples of any given number\"\"\"\n",
    "    print(f\"Multiples of {base}\")\n",
    "    print(f\"{'Number':<10}{'Result':<10}\")\n",
    "    print(\"-\" * 16)\n",
    "    for n in range(start, end + 1):\n",
    "        print(f\"{n: < 10}{n * base: < 10}\")"
   ]
  },
  {
   "cell_type": "code",
   "execution_count": 98,
   "id": "0900082e",
   "metadata": {},
   "outputs": [
    {
     "name": "stdout",
     "output_type": "stream",
     "text": [
      "Multiples of 2\n",
      "Number    Result    \n",
      "----------------\n",
      " 1         2        \n",
      " 2         4        \n",
      " 3         6        \n",
      " 4         8        \n",
      " 5         10       \n",
      " 6         12       \n",
      " 7         14       \n",
      " 8         16       \n",
      " 9         18       \n",
      " 10        20       \n"
     ]
    }
   ],
   "source": [
    "multiples(2,1,10)"
   ]
  },
  {
   "cell_type": "markdown",
   "id": "4bec0941",
   "metadata": {},
   "source": [
    "#### Single parameters and returns"
   ]
  },
  {
   "cell_type": "code",
   "execution_count": 7,
   "id": "52a6958e",
   "metadata": {},
   "outputs": [],
   "source": [
    "def square(x):\n",
    "    \"\"\"\n",
    "    This function calculates the square of any given number. \n",
    "    Input: x. \n",
    "    Output: x squared\n",
    "    \"\"\"\n",
    "    \n",
    "    result = x**2\n",
    "    \n",
    "    return result"
   ]
  },
  {
   "cell_type": "code",
   "execution_count": 8,
   "id": "ee91adf6",
   "metadata": {},
   "outputs": [
    {
     "data": {
      "text/plain": [
       "36"
      ]
     },
     "execution_count": 8,
     "metadata": {},
     "output_type": "execute_result"
    }
   ],
   "source": [
    "square(6)"
   ]
  },
  {
   "cell_type": "code",
   "execution_count": 9,
   "id": "d48e9e23",
   "metadata": {},
   "outputs": [
    {
     "data": {
      "text/plain": [
       "function"
      ]
     },
     "execution_count": 9,
     "metadata": {},
     "output_type": "execute_result"
    }
   ],
   "source": [
    "type(square)"
   ]
  },
  {
   "cell_type": "code",
   "execution_count": 11,
   "id": "9aff26ef",
   "metadata": {},
   "outputs": [
    {
     "data": {
      "text/plain": [
       "'\\n    This function calculates the square of any given number. \\n    Input: x. \\n    Output: x squared\\n    '"
      ]
     },
     "execution_count": 11,
     "metadata": {},
     "output_type": "execute_result"
    }
   ],
   "source": [
    "square.__doc__ #double underscore"
   ]
  },
  {
   "cell_type": "markdown",
   "id": "fd8ad00c",
   "metadata": {},
   "source": [
    "#### Multiple parameters and returns"
   ]
  },
  {
   "cell_type": "code",
   "execution_count": 12,
   "id": "797e901e",
   "metadata": {},
   "outputs": [],
   "source": [
    "def total(x,y):\n",
    "    \"\"\"\n",
    "    This function calculates the sum of any given number. \n",
    "    Input: x and y. \n",
    "    Output: the sum of x and y.\n",
    "    \"\"\"\n",
    "    \n",
    "    return x,y,x+y"
   ]
  },
  {
   "cell_type": "code",
   "execution_count": 14,
   "id": "8cd19b28",
   "metadata": {},
   "outputs": [
    {
     "data": {
      "text/plain": [
       "(1, 2, 3)"
      ]
     },
     "execution_count": 14,
     "metadata": {},
     "output_type": "execute_result"
    }
   ],
   "source": [
    "total(1,2)"
   ]
  },
  {
   "cell_type": "markdown",
   "id": "d7383157",
   "metadata": {},
   "source": [
    "#### Recursions"
   ]
  },
  {
   "cell_type": "code",
   "execution_count": 15,
   "id": "82dadcb9",
   "metadata": {},
   "outputs": [],
   "source": [
    "#basic example (calculating the factorial of any number)\n",
    "\n",
    "def factorial(n):\n",
    "    if n <= 1:   #base case\n",
    "        return 1\n",
    "    return n * factorial(n-1) #recursive steps"
   ]
  },
  {
   "cell_type": "code",
   "execution_count": 18,
   "id": "5a553e28",
   "metadata": {},
   "outputs": [
    {
     "data": {
      "text/plain": [
       "3628800"
      ]
     },
     "execution_count": 18,
     "metadata": {},
     "output_type": "execute_result"
    }
   ],
   "source": [
    "fact(10)"
   ]
  },
  {
   "cell_type": "code",
   "execution_count": 99,
   "id": "29552b50",
   "metadata": {},
   "outputs": [],
   "source": [
    "# recursive function that computes the fibonnaci sequence defined by F(0)=0, F(1)=1, F(n-1)+ F(n-2), for n \\geq 2.\n",
    "\n",
    "def fibonacci(n):\n",
    "    if n == 0:\n",
    "        return 0\n",
    "    if n ==1:\n",
    "        return 1\n",
    "    return fibonacci(n-1) + fibonacci(n-2)"
   ]
  },
  {
   "cell_type": "code",
   "execution_count": 100,
   "id": "103929bc",
   "metadata": {},
   "outputs": [
    {
     "data": {
      "text/plain": [
       "5"
      ]
     },
     "execution_count": 100,
     "metadata": {},
     "output_type": "execute_result"
    }
   ],
   "source": [
    "fibonacci(5)"
   ]
  },
  {
   "cell_type": "code",
   "execution_count": 111,
   "id": "9438beac",
   "metadata": {},
   "outputs": [
    {
     "name": "stdout",
     "output_type": "stream",
     "text": [
      "[1, 3, 9, 27, 81, 243, 729, 2187]\n"
     ]
    }
   ],
   "source": [
    "# Geometric sequence\n",
    "\n",
    "a0 = 1\n",
    "r = 3\n",
    "\n",
    "def geometric(n,a0,r):\n",
    "    if n == 0:\n",
    "        return a0\n",
    "    return r * geometric(n-1, a0, r)\n",
    "\n",
    "print([geometric(i,a0,r) for i in range(8)])"
   ]
  },
  {
   "cell_type": "code",
   "execution_count": null,
   "id": "d45cfc15",
   "metadata": {},
   "outputs": [],
   "source": []
  }
 ],
 "metadata": {
  "kernelspec": {
   "display_name": "Python 3 (ipykernel)",
   "language": "python",
   "name": "python3"
  },
  "language_info": {
   "codemirror_mode": {
    "name": "ipython",
    "version": 3
   },
   "file_extension": ".py",
   "mimetype": "text/x-python",
   "name": "python",
   "nbconvert_exporter": "python",
   "pygments_lexer": "ipython3",
   "version": "3.10.12"
  }
 },
 "nbformat": 4,
 "nbformat_minor": 5
}
