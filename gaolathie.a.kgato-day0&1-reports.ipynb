{
 "cells": [
  {
   "cell_type": "markdown",
   "id": "329ab006",
   "metadata": {},
   "source": [
    "# Variables, types, assignments, strings and files\n",
    "\n"
   ]
  },
  {
   "cell_type": "markdown",
   "id": "b9578f40",
   "metadata": {},
   "source": [
    "### By: [Angelah Kgato Gaolatlhe](https://github.com/gaolatlheangelah-jpg)\n",
    "\n",
    ">**Summary:** This notebook contains basic codes on how to declare `variables` and assign `types` to variables. It also contains practice codes on `strings`. Reference is made to [Yaé Ulrich Gaba](https://github.com/gabayae)'s lecture 1 & 2 notes titled `Python Proficiency for Scientific Computing and Data Science (PyPro-SCiDaS)`; `An Initiation to Programming using Python (Init2Py)`. "
   ]
  },
  {
   "cell_type": "markdown",
   "id": "1f344cb2",
   "metadata": {},
   "source": [
    "## Variables, types and assignments"
   ]
  },
  {
   "cell_type": "markdown",
   "id": "9a0dd4ae",
   "metadata": {},
   "source": [
    "### Direct assignment"
   ]
  },
  {
   "cell_type": "code",
   "execution_count": 81,
   "id": "6250b00e",
   "metadata": {},
   "outputs": [
    {
     "name": "stdout",
     "output_type": "stream",
     "text": [
      "Angelah\n",
      "Gaolatlhe\n",
      "23\n"
     ]
    }
   ],
   "source": [
    "my_name = \"Angelah\"\n",
    "my_surname = \"Gaolatlhe\"\n",
    "my_age =23\n",
    "\n",
    "print (my_name)\n",
    "print (my_surname)\n",
    "print (my_age)"
   ]
  },
  {
   "cell_type": "code",
   "execution_count": 82,
   "id": "57007a5f",
   "metadata": {},
   "outputs": [
    {
     "name": "stdout",
     "output_type": "stream",
     "text": [
      "Angelah Gaolatlhe 23\n"
     ]
    }
   ],
   "source": [
    "print (my_name, my_surname, my_age)"
   ]
  },
  {
   "cell_type": "markdown",
   "id": "9974a3cd",
   "metadata": {},
   "source": [
    "### Multiple assignments"
   ]
  },
  {
   "cell_type": "code",
   "execution_count": 83,
   "id": "6dc1a374",
   "metadata": {},
   "outputs": [
    {
     "name": "stdout",
     "output_type": "stream",
     "text": [
      "1 1\n"
     ]
    }
   ],
   "source": [
    "a = b = 1\n",
    "\n",
    "print (a, b)"
   ]
  },
  {
   "cell_type": "markdown",
   "id": "56e0f115",
   "metadata": {},
   "source": [
    "### Parallel assignments"
   ]
  },
  {
   "cell_type": "code",
   "execution_count": 84,
   "id": "c1a3b9e8",
   "metadata": {},
   "outputs": [
    {
     "name": "stdout",
     "output_type": "stream",
     "text": [
      "Gaolatlhe\n",
      "Angelah\n"
     ]
    }
   ],
   "source": [
    "my_name, my_surname = \"Angelah\", \"Gaolatlhe\"\n",
    "\n",
    "print (my_surname)\n",
    "print (my_name)"
   ]
  },
  {
   "cell_type": "markdown",
   "id": "ceeea254",
   "metadata": {},
   "source": [
    "### Define a variable based on other variables"
   ]
  },
  {
   "cell_type": "code",
   "execution_count": 85,
   "id": "d8b11e39",
   "metadata": {},
   "outputs": [
    {
     "name": "stdout",
     "output_type": "stream",
     "text": [
      "1.0\n"
     ]
    }
   ],
   "source": [
    "a,b,c = 1,2,3\n",
    "d = (a+b)/c\n",
    "\n",
    "print(d)"
   ]
  },
  {
   "cell_type": "markdown",
   "id": "08300014",
   "metadata": {},
   "source": [
    "### Keywords"
   ]
  },
  {
   "cell_type": "code",
   "execution_count": 4,
   "id": "9f54236c",
   "metadata": {},
   "outputs": [
    {
     "name": "stdout",
     "output_type": "stream",
     "text": [
      "WARNING: pip is being invoked by an old script wrapper. This will fail in a future version of pip.\n",
      "Please see https://github.com/pypa/pip/issues/5599 for advice on fixing the underlying issue.\n",
      "To avoid this problem you can invoke Python with '-m pip' instead of running pip directly.\n",
      "Defaulting to user installation because normal site-packages is not writeable\n",
      "Requirement already satisfied: keywords in /home/students-aimssn/.local/lib/python3.10/site-packages (0.0.1)\n"
     ]
    }
   ],
   "source": [
    "!pip install keywords"
   ]
  },
  {
   "cell_type": "code",
   "execution_count": 2,
   "id": "c9d11d5e",
   "metadata": {},
   "outputs": [
    {
     "name": "stdout",
     "output_type": "stream",
     "text": [
      "['False', 'None', 'True', 'and', 'as', 'assert', 'async', 'await', 'break', 'class', 'continue', 'def', 'del', 'elif', 'else', 'except', 'finally', 'for', 'from', 'global', 'if', 'import', 'in', 'is', 'lambda', 'nonlocal', 'not', 'or', 'pass', 'raise', 'return', 'try', 'while', 'with', 'yield']\n"
     ]
    }
   ],
   "source": [
    "import keyword\n",
    "\n",
    "print (keyword.kwlist)"
   ]
  },
  {
   "cell_type": "markdown",
   "id": "1a833822",
   "metadata": {},
   "source": [
    "### Swapping two variables"
   ]
  },
  {
   "cell_type": "markdown",
   "id": "2f513d69",
   "metadata": {},
   "source": [
    "### Using parallel assignment"
   ]
  },
  {
   "cell_type": "code",
   "execution_count": 92,
   "id": "5e41c9ef",
   "metadata": {},
   "outputs": [
    {
     "name": "stdout",
     "output_type": "stream",
     "text": [
      "23\n"
     ]
    }
   ],
   "source": [
    "my_name = \"Angelah\"\n",
    "my_age = 23\n",
    "\n",
    "my_name, my_age = my_age, my_name\n",
    "\n",
    "print (my_name)"
   ]
  },
  {
   "cell_type": "markdown",
   "id": "7d91f63f",
   "metadata": {},
   "source": [
    "### Using auxillary variable tmp"
   ]
  },
  {
   "cell_type": "code",
   "execution_count": 94,
   "id": "ada1d886",
   "metadata": {},
   "outputs": [
    {
     "name": "stdout",
     "output_type": "stream",
     "text": [
      "Angelah\n"
     ]
    }
   ],
   "source": [
    "my_name = \"Angelah\"\n",
    "my_age = 23\n",
    "\n",
    "tmp = my_name\n",
    "my_name = my_age\n",
    "my_age = tmp\n",
    "\n",
    "print (my_age)"
   ]
  },
  {
   "cell_type": "markdown",
   "id": "8a3420d7",
   "metadata": {},
   "source": [
    "### Deleting a variable using function del"
   ]
  },
  {
   "cell_type": "code",
   "execution_count": 97,
   "id": "049df312",
   "metadata": {},
   "outputs": [
    {
     "name": "stdout",
     "output_type": "stream",
     "text": [
      "23\n"
     ]
    }
   ],
   "source": [
    "my_age = 23\n",
    "print (my_age)"
   ]
  },
  {
   "cell_type": "code",
   "execution_count": 98,
   "id": "cf80ddd5",
   "metadata": {},
   "outputs": [
    {
     "ename": "NameError",
     "evalue": "name 'my_age' is not defined",
     "output_type": "error",
     "traceback": [
      "\u001b[0;31m---------------------------------------------------------------------------\u001b[0m",
      "\u001b[0;31mNameError\u001b[0m                                 Traceback (most recent call last)",
      "Cell \u001b[0;32mIn[98], line 2\u001b[0m\n\u001b[1;32m      1\u001b[0m \u001b[38;5;28;01mdel\u001b[39;00m my_age\n\u001b[0;32m----> 2\u001b[0m \u001b[38;5;28mprint\u001b[39m (\u001b[43mmy_age\u001b[49m)\n",
      "\u001b[0;31mNameError\u001b[0m: name 'my_age' is not defined"
     ]
    }
   ],
   "source": [
    "del my_age\n",
    "print (my_age)"
   ]
  },
  {
   "cell_type": "markdown",
   "id": "5ab80f9b",
   "metadata": {},
   "source": [
    "### Variable types"
   ]
  },
  {
   "cell_type": "code",
   "execution_count": 100,
   "id": "55ade5f5",
   "metadata": {},
   "outputs": [
    {
     "name": "stdout",
     "output_type": "stream",
     "text": [
      "<class 'str'> <class 'int'> <class 'float'>\n"
     ]
    }
   ],
   "source": [
    "my_name = \"Angelah\"\n",
    "my_age = 23\n",
    "my_height = 1.62\n",
    "\n",
    "\n",
    "print (type (my_name), type (my_age), type (my_height))"
   ]
  },
  {
   "cell_type": "code",
   "execution_count": 101,
   "id": "ad1c3353",
   "metadata": {},
   "outputs": [
    {
     "data": {
      "text/plain": [
       "float"
      ]
     },
     "execution_count": 101,
     "metadata": {},
     "output_type": "execute_result"
    }
   ],
   "source": [
    "type (my_height)"
   ]
  },
  {
   "cell_type": "code",
   "execution_count": 102,
   "id": "76621577",
   "metadata": {},
   "outputs": [
    {
     "data": {
      "text/plain": [
       "bool"
      ]
     },
     "execution_count": 102,
     "metadata": {},
     "output_type": "execute_result"
    }
   ],
   "source": [
    "i_am_a_girl = True\n",
    "\n",
    "type (i_am_a_girl)"
   ]
  },
  {
   "cell_type": "code",
   "execution_count": 105,
   "id": "5e27fc99",
   "metadata": {},
   "outputs": [
    {
     "name": "stdout",
     "output_type": "stream",
     "text": [
      "<class 'complex'>\n"
     ]
    }
   ],
   "source": [
    "number = 2j\n",
    "\n",
    "print (type (number))"
   ]
  },
  {
   "cell_type": "markdown",
   "id": "4b30c10b",
   "metadata": {},
   "source": [
    "## Strings and files"
   ]
  },
  {
   "cell_type": "markdown",
   "id": "296dbce8",
   "metadata": {},
   "source": [
    "### Use of quotation marks"
   ]
  },
  {
   "cell_type": "code",
   "execution_count": 58,
   "id": "c1d707c4",
   "metadata": {},
   "outputs": [
    {
     "name": "stdout",
     "output_type": "stream",
     "text": [
      "What is your name?\n",
      "****************************************************************\n",
      "\t\n",
      "She replied, \"Angelah\".\n",
      "****************************************************************\n",
      "\t\n",
      "Hello Angelah, nice to meet you.\n",
      "****************************************************************\n",
      "\t\n",
      "Do you now understand the use of '',\"\", and thriple quotation marks? \n"
     ]
    }
   ],
   "source": [
    "line_1 = \"What is your name?\" \n",
    "line_2 = 'She replied, \"Angelah\".'\n",
    "line_3 = \"Hello Angelah, nice to meet you.\"\n",
    "line_4 = \"\"\"Do you now understand the use of '',\"\", and thriple quotation marks? \"\"\"\n",
    "\n",
    "print (line_1)\n",
    "print (\"****************************************************************\")\n",
    "print ('\\t')\n",
    "\n",
    "print (line_2)\n",
    "print (\"****************************************************************\")\n",
    "print ('\\t')\n",
    "\n",
    "print (line_3)\n",
    "print (\"****************************************************************\")\n",
    "print ('\\t')\n",
    "\n",
    "print (line_4)"
   ]
  },
  {
   "cell_type": "markdown",
   "id": "dd02c6b2",
   "metadata": {},
   "source": [
    "### Indexing"
   ]
  },
  {
   "cell_type": "code",
   "execution_count": 41,
   "id": "d2466909",
   "metadata": {},
   "outputs": [],
   "source": [
    "my_name = \"Angelah\""
   ]
  },
  {
   "cell_type": "code",
   "execution_count": 39,
   "id": "7b341bb4",
   "metadata": {},
   "outputs": [
    {
     "name": "stdout",
     "output_type": "stream",
     "text": [
      "g\n"
     ]
    }
   ],
   "source": [
    "print (my_name[2])"
   ]
  },
  {
   "cell_type": "code",
   "execution_count": 38,
   "id": "358177c5",
   "metadata": {},
   "outputs": [
    {
     "name": "stdout",
     "output_type": "stream",
     "text": [
      "h\n"
     ]
    }
   ],
   "source": [
    "print (my_name[-1])"
   ]
  },
  {
   "cell_type": "code",
   "execution_count": 36,
   "id": "a132991e",
   "metadata": {},
   "outputs": [
    {
     "name": "stdout",
     "output_type": "stream",
     "text": [
      "e\n"
     ]
    }
   ],
   "source": [
    "print (my_name[-4])"
   ]
  },
  {
   "cell_type": "markdown",
   "id": "4f59ec71",
   "metadata": {},
   "source": [
    "### Slicing"
   ]
  },
  {
   "cell_type": "code",
   "execution_count": 24,
   "id": "bc73e019",
   "metadata": {},
   "outputs": [],
   "source": [
    "my_name = \"Angelah\""
   ]
  },
  {
   "cell_type": "code",
   "execution_count": 35,
   "id": "46e045d9",
   "metadata": {},
   "outputs": [
    {
     "name": "stdout",
     "output_type": "stream",
     "text": [
      "Angelah\n"
     ]
    }
   ],
   "source": [
    "print (my_name[::])"
   ]
  },
  {
   "cell_type": "code",
   "execution_count": 34,
   "id": "b243e5cf",
   "metadata": {},
   "outputs": [
    {
     "name": "stdout",
     "output_type": "stream",
     "text": [
      "halegnA\n"
     ]
    }
   ],
   "source": [
    "print (my_name[::-1])"
   ]
  },
  {
   "cell_type": "code",
   "execution_count": 33,
   "id": "19cda1ce",
   "metadata": {},
   "outputs": [
    {
     "name": "stdout",
     "output_type": "stream",
     "text": [
      "An\n"
     ]
    }
   ],
   "source": [
    "print (my_name[0:2])"
   ]
  },
  {
   "cell_type": "code",
   "execution_count": 32,
   "id": "b22abcf2",
   "metadata": {},
   "outputs": [
    {
     "name": "stdout",
     "output_type": "stream",
     "text": [
      "glh\n"
     ]
    }
   ],
   "source": [
    "print (my_name[2::2])"
   ]
  },
  {
   "cell_type": "markdown",
   "id": "e3869765",
   "metadata": {},
   "source": [
    "### Length of a string"
   ]
  },
  {
   "cell_type": "code",
   "execution_count": 40,
   "id": "f91ee81a",
   "metadata": {},
   "outputs": [],
   "source": [
    "occupation = \"I am a student at AIMS Senegal\""
   ]
  },
  {
   "cell_type": "code",
   "execution_count": 42,
   "id": "f83a8524",
   "metadata": {},
   "outputs": [
    {
     "name": "stdout",
     "output_type": "stream",
     "text": [
      "30\n"
     ]
    }
   ],
   "source": [
    "print (len (occupation))"
   ]
  },
  {
   "cell_type": "code",
   "execution_count": 46,
   "id": "bb0ab65e",
   "metadata": {},
   "outputs": [
    {
     "name": "stdout",
     "output_type": "stream",
     "text": [
      "7\n"
     ]
    }
   ],
   "source": [
    "print (len (occupation[0:13:2]))"
   ]
  },
  {
   "cell_type": "markdown",
   "id": "8f6f3886",
   "metadata": {},
   "source": [
    "### Addition of strings (Concatenation)"
   ]
  },
  {
   "cell_type": "code",
   "execution_count": 49,
   "id": "39e73b47",
   "metadata": {},
   "outputs": [],
   "source": [
    "my_first_name = \"Angelah\"\n",
    "my_middle_name = \"Kgato\"\n",
    "my_last_name= \"Gaolatlhe\""
   ]
  },
  {
   "cell_type": "code",
   "execution_count": 54,
   "id": "854d034b",
   "metadata": {},
   "outputs": [
    {
     "name": "stdout",
     "output_type": "stream",
     "text": [
      "Angelah Kgato Gaolatlhe\n"
     ]
    }
   ],
   "source": [
    "my_full_name = my_first_name + \" \" + my_middle_name + \" \" + my_last_name\n",
    "print (my_full_name)"
   ]
  },
  {
   "cell_type": "markdown",
   "id": "7c48808c",
   "metadata": {},
   "source": [
    "### Concatenating a string and a numeric value"
   ]
  },
  {
   "cell_type": "code",
   "execution_count": 56,
   "id": "c2543188",
   "metadata": {},
   "outputs": [],
   "source": [
    "my_first_name = \"Angelah\"\n",
    "my_middle_name = \"Kgato\"\n",
    "my_last_name= \"Gaolatlhe\"\n",
    "my_age = 23"
   ]
  },
  {
   "cell_type": "code",
   "execution_count": 66,
   "id": "0668dcd3",
   "metadata": {},
   "outputs": [
    {
     "name": "stdout",
     "output_type": "stream",
     "text": [
      "Angelah Kgato Gaolatlhe 23\n"
     ]
    }
   ],
   "source": [
    "intro = my_first_name + \" \" + my_middle_name + \" \" + my_last_name + \" \" + str(my_age)\n",
    "print (intro)"
   ]
  },
  {
   "cell_type": "markdown",
   "id": "87009af1",
   "metadata": {},
   "source": [
    "### Methods"
   ]
  },
  {
   "cell_type": "code",
   "execution_count": 68,
   "id": "12633fbf",
   "metadata": {},
   "outputs": [
    {
     "name": "stdout",
     "output_type": "stream",
     "text": [
      "Angelah and Kgato\n"
     ]
    }
   ],
   "source": [
    "first_name, second_name= \"Angelah\", \"Kgato\"\n",
    "names = first_name + \" and \" + second_name\n",
    "\n",
    "print (names)"
   ]
  },
  {
   "cell_type": "code",
   "execution_count": 69,
   "id": "0c8ca654",
   "metadata": {},
   "outputs": [
    {
     "name": "stdout",
     "output_type": "stream",
     "text": [
      "Angelah & Kgato\n"
     ]
    }
   ],
   "source": [
    "print (names.replace (\"and\", \"&\"))"
   ]
  },
  {
   "cell_type": "code",
   "execution_count": 70,
   "id": "807ed0a9",
   "metadata": {},
   "outputs": [
    {
     "name": "stdout",
     "output_type": "stream",
     "text": [
      "False\n"
     ]
    }
   ],
   "source": [
    "print (\"Gaolatlhe\" in names)"
   ]
  },
  {
   "cell_type": "code",
   "execution_count": 72,
   "id": "6e164fa2",
   "metadata": {},
   "outputs": [
    {
     "name": "stdout",
     "output_type": "stream",
     "text": [
      "12\n"
     ]
    }
   ],
   "source": [
    "print (names.find (\"Kgato\"))"
   ]
  },
  {
   "cell_type": "code",
   "execution_count": 77,
   "id": "659d4bd9",
   "metadata": {},
   "outputs": [
    {
     "name": "stdout",
     "output_type": "stream",
     "text": [
      "                                         Angelah and Kgato                                          \n"
     ]
    }
   ],
   "source": [
    "print (names.center (100, \" \"))"
   ]
  },
  {
   "cell_type": "code",
   "execution_count": 78,
   "id": "7210e310",
   "metadata": {},
   "outputs": [
    {
     "data": {
      "text/plain": [
       "['__add__',\n",
       " '__class__',\n",
       " '__contains__',\n",
       " '__delattr__',\n",
       " '__dir__',\n",
       " '__doc__',\n",
       " '__eq__',\n",
       " '__format__',\n",
       " '__ge__',\n",
       " '__getattribute__',\n",
       " '__getitem__',\n",
       " '__getnewargs__',\n",
       " '__getstate__',\n",
       " '__gt__',\n",
       " '__hash__',\n",
       " '__init__',\n",
       " '__init_subclass__',\n",
       " '__iter__',\n",
       " '__le__',\n",
       " '__len__',\n",
       " '__lt__',\n",
       " '__mod__',\n",
       " '__mul__',\n",
       " '__ne__',\n",
       " '__new__',\n",
       " '__reduce__',\n",
       " '__reduce_ex__',\n",
       " '__repr__',\n",
       " '__rmod__',\n",
       " '__rmul__',\n",
       " '__setattr__',\n",
       " '__sizeof__',\n",
       " '__str__',\n",
       " '__subclasshook__',\n",
       " 'capitalize',\n",
       " 'casefold',\n",
       " 'center',\n",
       " 'count',\n",
       " 'encode',\n",
       " 'endswith',\n",
       " 'expandtabs',\n",
       " 'find',\n",
       " 'format',\n",
       " 'format_map',\n",
       " 'index',\n",
       " 'isalnum',\n",
       " 'isalpha',\n",
       " 'isascii',\n",
       " 'isdecimal',\n",
       " 'isdigit',\n",
       " 'isidentifier',\n",
       " 'islower',\n",
       " 'isnumeric',\n",
       " 'isprintable',\n",
       " 'isspace',\n",
       " 'istitle',\n",
       " 'isupper',\n",
       " 'join',\n",
       " 'ljust',\n",
       " 'lower',\n",
       " 'lstrip',\n",
       " 'maketrans',\n",
       " 'partition',\n",
       " 'removeprefix',\n",
       " 'removesuffix',\n",
       " 'replace',\n",
       " 'rfind',\n",
       " 'rindex',\n",
       " 'rjust',\n",
       " 'rpartition',\n",
       " 'rsplit',\n",
       " 'rstrip',\n",
       " 'split',\n",
       " 'splitlines',\n",
       " 'startswith',\n",
       " 'strip',\n",
       " 'swapcase',\n",
       " 'title',\n",
       " 'translate',\n",
       " 'upper',\n",
       " 'zfill']"
      ]
     },
     "execution_count": 78,
     "metadata": {},
     "output_type": "execute_result"
    }
   ],
   "source": [
    "dir(str)"
   ]
  }
 ],
 "metadata": {
  "kernelspec": {
   "display_name": "Python 3 (ipykernel)",
   "language": "python",
   "name": "python3"
  },
  "language_info": {
   "codemirror_mode": {
    "name": "ipython",
    "version": 3
   },
   "file_extension": ".py",
   "mimetype": "text/x-python",
   "name": "python",
   "nbconvert_exporter": "python",
   "pygments_lexer": "ipython3",
   "version": "3.10.12"
  }
 },
 "nbformat": 4,
 "nbformat_minor": 5
}
