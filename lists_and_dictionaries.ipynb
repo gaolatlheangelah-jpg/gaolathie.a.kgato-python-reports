{
 "cells": [
  {
   "cell_type": "markdown",
   "id": "01ac0e5f",
   "metadata": {},
   "source": [
    "## Lists"
   ]
  },
  {
   "cell_type": "code",
   "execution_count": 28,
   "id": "031c8a0b",
   "metadata": {},
   "outputs": [],
   "source": [
    "my_list_1 = [\"Angelah\", \"Kgato\", \"Gaolatlhe\", 23, 1.62]"
   ]
  },
  {
   "cell_type": "code",
   "execution_count": 29,
   "id": "27dd23b8",
   "metadata": {},
   "outputs": [
    {
     "name": "stdout",
     "output_type": "stream",
     "text": [
      "['Angelah', 'Kgato', 'Gaolatlhe', 23, 1.62]\n"
     ]
    }
   ],
   "source": [
    "print(my_list_1)"
   ]
  },
  {
   "cell_type": "code",
   "execution_count": 30,
   "id": "7f836da9",
   "metadata": {},
   "outputs": [
    {
     "data": {
      "text/plain": [
       "list"
      ]
     },
     "execution_count": 30,
     "metadata": {},
     "output_type": "execute_result"
    }
   ],
   "source": [
    "type(my_list_1)"
   ]
  },
  {
   "cell_type": "code",
   "execution_count": 31,
   "id": "9b3d51f1",
   "metadata": {},
   "outputs": [
    {
     "data": {
      "text/plain": [
       "float"
      ]
     },
     "execution_count": 31,
     "metadata": {},
     "output_type": "execute_result"
    }
   ],
   "source": [
    "type(my_list_1[-1])"
   ]
  },
  {
   "cell_type": "code",
   "execution_count": 32,
   "id": "a492da26",
   "metadata": {},
   "outputs": [],
   "source": [
    "my_list_2 = [\"Matthews\", \"Kutlo\", \"Gaolatlhe\", 28, 1.69]\n",
    "my_list_3 = [\"Snow\", \"Senono\", 23, 1.58]"
   ]
  },
  {
   "cell_type": "code",
   "execution_count": 33,
   "id": "a6849c09",
   "metadata": {},
   "outputs": [],
   "source": [
    "my_family = [my_list_1, my_list_2, my_list_3]"
   ]
  },
  {
   "cell_type": "code",
   "execution_count": 34,
   "id": "4039cd05",
   "metadata": {},
   "outputs": [
    {
     "data": {
      "text/plain": [
       "[['Angelah', 'Kgato', 'Gaolatlhe', 23, 1.62],\n",
       " ['Matthews', 'Kutlo', 'Gaolatlhe', 28, 1.69],\n",
       " ['Snow', 'Senono', 23, 1.58]]"
      ]
     },
     "execution_count": 34,
     "metadata": {},
     "output_type": "execute_result"
    }
   ],
   "source": [
    "my_family"
   ]
  },
  {
   "cell_type": "code",
   "execution_count": 35,
   "id": "fce18d6a",
   "metadata": {},
   "outputs": [
    {
     "data": {
      "text/plain": [
       "list"
      ]
     },
     "execution_count": 35,
     "metadata": {},
     "output_type": "execute_result"
    }
   ],
   "source": [
    "type(my_family)"
   ]
  },
  {
   "cell_type": "code",
   "execution_count": 36,
   "id": "12891892",
   "metadata": {},
   "outputs": [
    {
     "data": {
      "text/plain": [
       "['Angelah', 'Kgato', 'Gaolatlhe', 23, 1.62, ['Snow', 'Senono', 23, 1.58]]"
      ]
     },
     "execution_count": 36,
     "metadata": {},
     "output_type": "execute_result"
    }
   ],
   "source": [
    "me_and_snow = [\"Angelah\", \"Kgato\", \"Gaolatlhe\", 23, 1.62, my_list_3]\n",
    "me_and_snow"
   ]
  },
  {
   "cell_type": "code",
   "execution_count": 37,
   "id": "1ec10981",
   "metadata": {},
   "outputs": [
    {
     "data": {
      "text/plain": [
       "['Snow', 'Senono', 23, 1.58]"
      ]
     },
     "execution_count": 37,
     "metadata": {},
     "output_type": "execute_result"
    }
   ],
   "source": [
    "me_and_snow[5]"
   ]
  },
  {
   "cell_type": "code",
   "execution_count": 38,
   "id": "b98a26fd",
   "metadata": {},
   "outputs": [
    {
     "data": {
      "text/plain": [
       "1.58"
      ]
     },
     "execution_count": 38,
     "metadata": {},
     "output_type": "execute_result"
    }
   ],
   "source": [
    "me_and_snow[5][-1]"
   ]
  },
  {
   "cell_type": "code",
   "execution_count": 39,
   "id": "4174c835",
   "metadata": {},
   "outputs": [
    {
     "data": {
      "text/plain": [
       "list"
      ]
     },
     "execution_count": 39,
     "metadata": {},
     "output_type": "execute_result"
    }
   ],
   "source": [
    "type(me_and_snow[-1])"
   ]
  },
  {
   "cell_type": "markdown",
   "id": "a2ea25d2",
   "metadata": {},
   "source": [
    "#### Combining lists"
   ]
  },
  {
   "cell_type": "code",
   "execution_count": 48,
   "id": "0f4f722f",
   "metadata": {},
   "outputs": [],
   "source": [
    "list_1 = [\"Angelah\", \"Kgato\", \"Gaolatlhe\", 23, 1.62]\n",
    "list_2 = [\"AIMS Senegal\", \"Python\", 14]"
   ]
  },
  {
   "cell_type": "code",
   "execution_count": 49,
   "id": "b1bbad13",
   "metadata": {},
   "outputs": [
    {
     "data": {
      "text/plain": [
       "['Angelah', 'Kgato', 'Gaolatlhe', 23, 1.62, 'AIMS Senegal', 'Python', 14]"
      ]
     },
     "execution_count": 49,
     "metadata": {},
     "output_type": "execute_result"
    }
   ],
   "source": [
    "list_1 + list_2"
   ]
  },
  {
   "cell_type": "code",
   "execution_count": 50,
   "id": "df1419c0",
   "metadata": {
    "scrolled": true
   },
   "outputs": [
    {
     "data": {
      "text/plain": [
       "['AIMS Senegal', 'Python', 14, 'Angelah', 'Kgato', 'Gaolatlhe', 23, 1.62]"
      ]
     },
     "execution_count": 50,
     "metadata": {},
     "output_type": "execute_result"
    }
   ],
   "source": [
    "list_2 + list_1"
   ]
  },
  {
   "cell_type": "code",
   "execution_count": 57,
   "id": "f90f1661",
   "metadata": {},
   "outputs": [
    {
     "data": {
      "text/plain": [
       "['Angelah',\n",
       " 'Kgato',\n",
       " 'Gaolatlhe',\n",
       " 23,\n",
       " 1.62,\n",
       " 7,\n",
       " 2,\n",
       " [2],\n",
       " 'Angelah',\n",
       " 'Kgato',\n",
       " 'Gaolatlhe',\n",
       " 23,\n",
       " 1.62,\n",
       " 7,\n",
       " 2,\n",
       " [2]]"
      ]
     },
     "execution_count": 57,
     "metadata": {},
     "output_type": "execute_result"
    }
   ],
   "source": [
    "list_1 + list_1"
   ]
  },
  {
   "cell_type": "code",
   "execution_count": 51,
   "id": "6adcac0c",
   "metadata": {},
   "outputs": [
    {
     "data": {
      "text/plain": [
       "['Angelah', 'Kgato', 'Gaolatlhe', 23, 1.62, 7]"
      ]
     },
     "execution_count": 51,
     "metadata": {},
     "output_type": "execute_result"
    }
   ],
   "source": [
    "list_1.append(7)\n",
    "list_1"
   ]
  },
  {
   "cell_type": "code",
   "execution_count": 52,
   "id": "545129ff",
   "metadata": {},
   "outputs": [
    {
     "ename": "TypeError",
     "evalue": "'int' object is not iterable",
     "output_type": "error",
     "traceback": [
      "\u001b[0;31m---------------------------------------------------------------------------\u001b[0m",
      "\u001b[0;31mTypeError\u001b[0m                                 Traceback (most recent call last)",
      "\u001b[0;32m/tmp/ipykernel_10270/4133121189.py\u001b[0m in \u001b[0;36m<module>\u001b[0;34m\u001b[0m\n\u001b[0;32m----> 1\u001b[0;31m \u001b[0mlist_1\u001b[0m\u001b[0;34m.\u001b[0m\u001b[0mextend\u001b[0m\u001b[0;34m(\u001b[0m\u001b[0;36m2\u001b[0m\u001b[0;34m)\u001b[0m\u001b[0;34m\u001b[0m\u001b[0;34m\u001b[0m\u001b[0m\n\u001b[0m",
      "\u001b[0;31mTypeError\u001b[0m: 'int' object is not iterable"
     ]
    }
   ],
   "source": [
    "list_1.extend(2)"
   ]
  },
  {
   "cell_type": "code",
   "execution_count": 53,
   "id": "51431ee3",
   "metadata": {},
   "outputs": [],
   "source": [
    "?list_1.extend"
   ]
  },
  {
   "cell_type": "code",
   "execution_count": 54,
   "id": "d5112806",
   "metadata": {},
   "outputs": [
    {
     "data": {
      "text/plain": [
       "['Angelah', 'Kgato', 'Gaolatlhe', 23, 1.62, 7, 2]"
      ]
     },
     "execution_count": 54,
     "metadata": {},
     "output_type": "execute_result"
    }
   ],
   "source": [
    "list_1.extend([2])\n",
    "list_1"
   ]
  },
  {
   "cell_type": "code",
   "execution_count": 55,
   "id": "50b1d8db",
   "metadata": {},
   "outputs": [
    {
     "data": {
      "text/plain": [
       "['Angelah', 'Kgato', 'Gaolatlhe', 23, 1.62, 7, 2, [2]]"
      ]
     },
     "execution_count": 55,
     "metadata": {},
     "output_type": "execute_result"
    }
   ],
   "source": [
    "list_1.append([2])\n",
    "list_1"
   ]
  },
  {
   "cell_type": "code",
   "execution_count": 56,
   "id": "049d5d87",
   "metadata": {},
   "outputs": [
    {
     "data": {
      "text/plain": [
       "['AIMS Senegal',\n",
       " 'Python',\n",
       " 14,\n",
       " 'AIMS Senegal',\n",
       " 'Python',\n",
       " 14,\n",
       " 'AIMS Senegal',\n",
       " 'Python',\n",
       " 14]"
      ]
     },
     "execution_count": 56,
     "metadata": {},
     "output_type": "execute_result"
    }
   ],
   "source": [
    "3 * list_2"
   ]
  },
  {
   "cell_type": "code",
   "execution_count": 59,
   "id": "0ac9a445",
   "metadata": {},
   "outputs": [
    {
     "data": {
      "text/plain": [
       "True"
      ]
     },
     "execution_count": 59,
     "metadata": {},
     "output_type": "execute_result"
    }
   ],
   "source": [
    "3 * list_2 == list_2 + list_2 + list_2"
   ]
  },
  {
   "cell_type": "code",
   "execution_count": 60,
   "id": "415cda39",
   "metadata": {},
   "outputs": [
    {
     "ename": "TypeError",
     "evalue": "unsupported operand type(s) for +: 'float' and 'list'",
     "output_type": "error",
     "traceback": [
      "\u001b[0;31m---------------------------------------------------------------------------\u001b[0m",
      "\u001b[0;31mTypeError\u001b[0m                                 Traceback (most recent call last)",
      "\u001b[0;32m/tmp/ipykernel_10270/1570674005.py\u001b[0m in \u001b[0;36m<module>\u001b[0;34m\u001b[0m\n\u001b[0;32m----> 1\u001b[0;31m \u001b[0;36m1.5\u001b[0m \u001b[0;34m+\u001b[0m \u001b[0mlist_2\u001b[0m\u001b[0;34m\u001b[0m\u001b[0;34m\u001b[0m\u001b[0m\n\u001b[0m",
      "\u001b[0;31mTypeError\u001b[0m: unsupported operand type(s) for +: 'float' and 'list'"
     ]
    }
   ],
   "source": [
    "1.5 + list_2"
   ]
  },
  {
   "cell_type": "markdown",
   "id": "86b29194",
   "metadata": {},
   "source": [
    "## Dictionaries: key & values"
   ]
  },
  {
   "cell_type": "code",
   "execution_count": 70,
   "id": "31d25318",
   "metadata": {},
   "outputs": [
    {
     "data": {
      "text/plain": [
       "{'me': ['Angelah', 'Kgato', 'Gaolatlhe', 23, 1.62],\n",
       " 'brother': ['Matthews', 'Kutlo', 'Gaolatlhe', 28, 1.69]}"
      ]
     },
     "execution_count": 70,
     "metadata": {},
     "output_type": "execute_result"
    }
   ],
   "source": [
    "dict_1 = {\"me\" : [\"Angelah\", \"Kgato\", \"Gaolatlhe\", 23, 1.62], \"brother\" : [\"Matthews\", \"Kutlo\", \"Gaolatlhe\", 28, 1.69]}\n",
    "dict_1"
   ]
  },
  {
   "cell_type": "code",
   "execution_count": 71,
   "id": "c6490902",
   "metadata": {},
   "outputs": [
    {
     "data": {
      "text/plain": [
       "['Angelah', 'Kgato', 'Gaolatlhe', 23, 1.62]"
      ]
     },
     "execution_count": 71,
     "metadata": {},
     "output_type": "execute_result"
    }
   ],
   "source": [
    "dict_1[\"me\"]\n",
    "# me is a key\n",
    "# dict_1[\"me\"] will print values of \"me\""
   ]
  },
  {
   "cell_type": "code",
   "execution_count": 72,
   "id": "2323e53c",
   "metadata": {},
   "outputs": [
    {
     "data": {
      "text/plain": [
       "{'me': ['Angelah', 'Kgato', 'Gaolatlhe', 23, 1.62],\n",
       " 'brother': ['Matthews', 'Kutlo', 'Gaolatlhe', 28, 1.69],\n",
       " 'friend': ['Snow', 'Senono', 23, 1.58]}"
      ]
     },
     "execution_count": 72,
     "metadata": {},
     "output_type": "execute_result"
    }
   ],
   "source": [
    "dict_1[\"friend\"] = [\"Snow\", \"Senono\", 23, 1.58]\n",
    "dict_1"
   ]
  },
  {
   "cell_type": "code",
   "execution_count": 73,
   "id": "86a2069e",
   "metadata": {},
   "outputs": [
    {
     "data": {
      "text/plain": [
       "{'me': ['Angelah', 'Kgato', 'Gaolatlhe', 23, 1.62],\n",
       " 'brother': ['Matthews', 'Kutlo', 'Gaolatlhe', 28, 1.69],\n",
       " 'friend': ['Katlo', 'Motlhabane', 24, 1.61]}"
      ]
     },
     "execution_count": 73,
     "metadata": {},
     "output_type": "execute_result"
    }
   ],
   "source": [
    "dict_1[\"friend\"] = [\"Katlo\", \"Motlhabane\", 24, 1.61]\n",
    "dict_1"
   ]
  },
  {
   "cell_type": "code",
   "execution_count": 76,
   "id": "16fb1be5",
   "metadata": {},
   "outputs": [
    {
     "data": {
      "text/plain": [
       "{'me': ['Angelah', 'Kgato', 'Gaolatlhe', 23, 1.62],\n",
       " 'brother': ['Matthews', 'Kutlo', 'Gaolatlhe', 28, 1.69],\n",
       " 'friend': ['Katlo', 'Motlhabane', 24, 1.61]}"
      ]
     },
     "execution_count": 76,
     "metadata": {},
     "output_type": "execute_result"
    }
   ],
   "source": [
    "dict_1 = {\"me\" : [\"Angelah\", \"Kgato\", \"Gaolatlhe\", 23, 1.62], \n",
    "          \"brother\" : [\"Matthews\", \"Kutlo\", \"Gaolatlhe\", 28, 1.69],\n",
    "          \"friend\" : [\"Snow\", \"Senono\", 23, 1.58],\n",
    "          \"friend\" : [\"Katlo\", \"Motlhabane\", 24, 1.61]}\n",
    "dict_1\n",
    "# dict_1 will run the 'last' friend i.e Katlo"
   ]
  },
  {
   "cell_type": "code",
   "execution_count": 77,
   "id": "fc8b7112",
   "metadata": {},
   "outputs": [
    {
     "data": {
      "text/plain": [
       "dict_items([('me', ['Angelah', 'Kgato', 'Gaolatlhe', 23, 1.62]), ('brother', ['Matthews', 'Kutlo', 'Gaolatlhe', 28, 1.69]), ('friend', ['Katlo', 'Motlhabane', 24, 1.61])])"
      ]
     },
     "execution_count": 77,
     "metadata": {},
     "output_type": "execute_result"
    }
   ],
   "source": [
    "dict_1.items()"
   ]
  },
  {
   "cell_type": "code",
   "execution_count": 78,
   "id": "65346546",
   "metadata": {},
   "outputs": [
    {
     "data": {
      "text/plain": [
       "dict_keys(['me', 'brother', 'friend'])"
      ]
     },
     "execution_count": 78,
     "metadata": {},
     "output_type": "execute_result"
    }
   ],
   "source": [
    "dict_1.keys()"
   ]
  },
  {
   "cell_type": "code",
   "execution_count": 1,
   "id": "8010af08",
   "metadata": {},
   "outputs": [],
   "source": [
    "my_neighbours = {\"girl\" : [\"Mareme\", \"Diop\", 23, 1.63]}\n",
    "boys = {\"boy_1\" : [\"Roy\", \"Aballo\", 25, 1.62], \"boy_2\" : [\"Wandiya\", \"James\", 23, 1.65] }"
   ]
  },
  {
   "cell_type": "code",
   "execution_count": 84,
   "id": "25df12a5",
   "metadata": {},
   "outputs": [],
   "source": [
    "?my_neighbours.update"
   ]
  },
  {
   "cell_type": "code",
   "execution_count": 86,
   "id": "d7894f3f",
   "metadata": {},
   "outputs": [
    {
     "data": {
      "text/plain": [
       "{'girl': ['Tiaretie', 'Diop', 23, 1.63],\n",
       " 'boy_1': ['Roy', 'Aballo', 25, 1.62],\n",
       " 'boy_2': ['Wandiya', 'James', 23, 1.65]}"
      ]
     },
     "execution_count": 86,
     "metadata": {},
     "output_type": "execute_result"
    }
   ],
   "source": [
    "my_neighbours.update(boys)\n",
    "my_neighbours"
   ]
  },
  {
   "cell_type": "code",
   "execution_count": null,
   "id": "efa529a4",
   "metadata": {},
   "outputs": [],
   "source": []
  }
 ],
 "metadata": {
  "kernelspec": {
   "display_name": "Python 3 (ipykernel)",
   "language": "python",
   "name": "python3"
  },
  "language_info": {
   "codemirror_mode": {
    "name": "ipython",
    "version": 3
   },
   "file_extension": ".py",
   "mimetype": "text/x-python",
   "name": "python",
   "nbconvert_exporter": "python",
   "pygments_lexer": "ipython3",
   "version": "3.10.12"
  }
 },
 "nbformat": 4,
 "nbformat_minor": 5
}
